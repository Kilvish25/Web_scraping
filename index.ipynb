{
 "cells": [
  {
   "cell_type": "markdown",
   "metadata": {},
   "source": [
    "# Web-Scrapping"
   ]
  },
  {
   "cell_type": "markdown",
   "metadata": {},
   "source": [
    "## import required modules"
   ]
  },
  {
   "cell_type": "code",
   "execution_count": 34,
   "metadata": {},
   "outputs": [],
   "source": [
    "from bs4 import BeautifulSoup\r\n",
    "from selenium import webdriver\r\n",
    "from selenium.webdriver.chrome.options import Options\r\n",
    "import warnings\r\n",
    "warnings.filterwarnings(\"ignore\")\r\n",
    "import json"
   ]
  },
  {
   "cell_type": "code",
   "execution_count": 28,
   "metadata": {},
   "outputs": [],
   "source": [
    "chrome_options = Options()\r\n",
    "chrome_options.add_argument(\"--no-sandbox\")\r\n",
    "chrome_options.add_argument(\"--headless\")\r\n",
    "chrome_options.add_argument(\"--disable-setuid-sandbox\")\r\n",
    "driver = webdriver.Chrome(chrome_options=chrome_options)\r\n",
    "url=\"https://www.midsouthshooterssupply.com/dept/reloading/primers?currentpage=1\" # web-page from where data to be fetched\r\n",
    "driver.get(url)\r\n",
    "content=driver.page_source"
   ]
  },
  {
   "cell_type": "markdown",
   "metadata": {},
   "source": [
    "## fetching data from the web page"
   ]
  },
  {
   "cell_type": "code",
   "execution_count": 33,
   "metadata": {},
   "outputs": [],
   "source": [
    "Soup=BeautifulSoup(content)\r\n",
    "num=Soup.find_all('div',attrs={'id':'Div1','class':'product'})"
   ]
  },
  {
   "cell_type": "markdown",
   "metadata": {},
   "source": [
    "## storing the data in a list of dictionaries in correct format"
   ]
  },
  {
   "cell_type": "code",
   "execution_count": 38,
   "metadata": {},
   "outputs": [],
   "source": [
    "output=[]\r\n",
    "for x in num:\r\n",
    "    p=(x.find('span',attrs={'class':'price'})).find('span')\r\n",
    "    t=x.find('a',attrs={\"class\":\"catalog-item-name\"})\r\n",
    "    s=x.find('span',attrs={\"class\":\"status\"})\r\n",
    "    m=(x.find('a',attrs={'class':'catalog-item-brand'}))\r\n",
    "    \r\n",
    "    s=False if s.text=='Out of Stock' else True\r\n",
    "    out={'price':float(p.text[1:]),'title':str(t.text),'stock':s,'maftr':str(m.text)}\r\n",
    "    output.append(out)"
   ]
  },
  {
   "cell_type": "markdown",
   "metadata": {},
   "source": [
    "## convert the list of dictionaries to a json string"
   ]
  },
  {
   "cell_type": "code",
   "execution_count": 39,
   "metadata": {},
   "outputs": [],
   "source": [
    "json_string=json.dumps(output)"
   ]
  },
  {
   "cell_type": "markdown",
   "metadata": {},
   "source": [
    "## pushing the json string to a .json file"
   ]
  },
  {
   "cell_type": "code",
   "execution_count": 40,
   "metadata": {},
   "outputs": [],
   "source": [
    "with open('Data.json', 'w') as f:\r\n",
    "    json.dump(output, f, indent=4)"
   ]
  }
 ],
 "metadata": {
  "kernelspec": {
   "display_name": "Python 3.8.8 64-bit ('base': conda)",
   "name": "python388jvsc74a57bd021404a4c15060d5cc3fc0116103735fefe9c2fa04275d30cfbd182c990f3d039"
  },
  "language_info": {
   "codemirror_mode": {
    "name": "ipython",
    "version": 3
   },
   "file_extension": ".py",
   "mimetype": "text/x-python",
   "name": "python",
   "nbconvert_exporter": "python",
   "pygments_lexer": "ipython3",
   "version": "3.8.8"
  },
  "metadata": {
   "interpreter": {
    "hash": "3fb7cda6f726240a3bc97da9418a8912ba9ac11ccc3001743c440bac76402d9f"
   }
  },
  "orig_nbformat": 2
 },
 "nbformat": 4,
 "nbformat_minor": 2
}